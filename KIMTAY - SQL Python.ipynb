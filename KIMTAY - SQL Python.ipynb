{
 "cells": [
  {
   "cell_type": "markdown",
   "metadata": {},
   "source": [
    "# SQL Overview"
   ]
  },
  {
   "cell_type": "markdown",
   "metadata": {
    "id": "HxV8-85odY6p"
   },
   "source": [
    "## SQL Environment"
   ]
  },
  {
   "cell_type": "markdown",
   "metadata": {},
   "source": [
    "Importing sqlalchemy module"
   ]
  },
  {
   "cell_type": "code",
   "execution_count": 1,
   "metadata": {},
   "outputs": [],
   "source": [
    "%%capture\n",
    "!pip install ipython-sql sqlalchemy\n",
    "import sqlalchemy"
   ]
  },
  {
   "cell_type": "markdown",
   "metadata": {
    "id": "_SLkEtMFdfUB"
   },
   "source": [
    "Generate database file to storage tables"
   ]
  },
  {
   "cell_type": "code",
   "execution_count": 2,
   "metadata": {
    "colab": {
     "base_uri": "https://localhost:8080/",
     "height": 72
    },
    "id": "lmJHnUhUdV34",
    "outputId": "2f07f748-bc22-4ef4-8aaa-3761f6bf6f23"
   },
   "outputs": [],
   "source": [
    "sqlalchemy.create_engine(\"sqlite:///KIMTAY.db\")\n",
    "%load_ext sql\n",
    "%sql sqlite:///KIMTAY.db"
   ]
  },
  {
   "cell_type": "markdown",
   "metadata": {},
   "source": [
    "## SQL Table Creation"
   ]
  },
  {
   "cell_type": "markdown",
   "metadata": {
    "id": "lN24_ZHwWkQt"
   },
   "source": [
    "SALES_REP Table Creation"
   ]
  },
  {
   "cell_type": "code",
   "execution_count": 3,
   "metadata": {},
   "outputs": [
    {
     "name": "stdout",
     "output_type": "stream",
     "text": [
      " * sqlite:///KIMTAY.db\n",
      "Done.\n",
      "Done.\n"
     ]
    },
    {
     "data": {
      "text/plain": [
       "[]"
      ]
     },
     "execution_count": 3,
     "metadata": {},
     "output_type": "execute_result"
    }
   ],
   "source": [
    "%%sql\n",
    "\n",
    "DROP TABLE IF EXISTS SALES_REP;\n",
    "CREATE TABLE SALES_REP\n",
    "(\n",
    "   REP_ID CHAR(2) PRIMARY KEY,\n",
    "   FIRST_NAME VARCHAR(20),\n",
    "   LAST_NAME VARCHAR(20),\n",
    "   ADDRESS VARCHAR(20),\n",
    "   CITY VARCHAR(15),\n",
    "   STATE CHAR(2),\n",
    "   POSTAL CHAR(5),\n",
    "   CELL_PHONE CHAR(12),\n",
    "   COMMISSION DECIMAL(7,2),\n",
    "   RATE DECIMAL(3,2)\n",
    ");"
   ]
  },
  {
   "cell_type": "markdown",
   "metadata": {},
   "source": [
    "Populating SALES_REP Table"
   ]
  },
  {
   "cell_type": "code",
   "execution_count": 4,
   "metadata": {},
   "outputs": [
    {
     "name": "stdout",
     "output_type": "stream",
     "text": [
      " * sqlite:///KIMTAY.db\n",
      "1 rows affected.\n",
      "1 rows affected.\n",
      "1 rows affected.\n",
      "1 rows affected.\n"
     ]
    },
    {
     "data": {
      "text/plain": [
       "[]"
      ]
     },
     "execution_count": 4,
     "metadata": {},
     "output_type": "execute_result"
    }
   ],
   "source": [
    "%%sql\n",
    "INSERT INTO SALES_REP VALUES ('05','Susan','Garcia',  '42 Mountain Ln','Cody',     'WY', '82414', '307-824-1245', 12743.16, 0.04);      \n",
    "INSERT INTO SALES_REP VALUES ('10','Richard','Miller','87 Pikes Dr',   'Ralston',  'WY', '82440', '307-406-4321', 20872.11, 0.06);     \n",
    "INSERT INTO SALES_REP VALUES ('15','Donna','Smith',   '312 Oak Rd',    'Powell',   'WY', '82440', '307-982-8401', 14912.92, 0.04);          \n",
    "INSERT INTO SALES_REP VALUES ('20','Daniel','Jackson','19 Lookout Dr', 'Elk Butte','WY', '82433', '307-883-9481', 0.00,     0.04);        "
   ]
  },
  {
   "cell_type": "markdown",
   "metadata": {},
   "source": [
    "SALES_REP Table Visualization"
   ]
  },
  {
   "cell_type": "code",
   "execution_count": 5,
   "metadata": {},
   "outputs": [
    {
     "name": "stdout",
     "output_type": "stream",
     "text": [
      " * sqlite:///KIMTAY.db\n",
      "Done.\n"
     ]
    },
    {
     "data": {
      "text/html": [
       "<table>\n",
       "    <thead>\n",
       "        <tr>\n",
       "            <th>REP_ID</th>\n",
       "            <th>FIRST_NAME</th>\n",
       "            <th>LAST_NAME</th>\n",
       "            <th>ADDRESS</th>\n",
       "            <th>CITY</th>\n",
       "            <th>STATE</th>\n",
       "            <th>POSTAL</th>\n",
       "            <th>CELL_PHONE</th>\n",
       "            <th>COMMISSION</th>\n",
       "            <th>RATE</th>\n",
       "        </tr>\n",
       "    </thead>\n",
       "    <tbody>\n",
       "        <tr>\n",
       "            <td>05</td>\n",
       "            <td>Susan</td>\n",
       "            <td>Garcia</td>\n",
       "            <td>42 Mountain Ln</td>\n",
       "            <td>Cody</td>\n",
       "            <td>WY</td>\n",
       "            <td>82414</td>\n",
       "            <td>307-824-1245</td>\n",
       "            <td>12743.16</td>\n",
       "            <td>0.04</td>\n",
       "        </tr>\n",
       "        <tr>\n",
       "            <td>10</td>\n",
       "            <td>Richard</td>\n",
       "            <td>Miller</td>\n",
       "            <td>87 Pikes Dr</td>\n",
       "            <td>Ralston</td>\n",
       "            <td>WY</td>\n",
       "            <td>82440</td>\n",
       "            <td>307-406-4321</td>\n",
       "            <td>20872.11</td>\n",
       "            <td>0.06</td>\n",
       "        </tr>\n",
       "        <tr>\n",
       "            <td>15</td>\n",
       "            <td>Donna</td>\n",
       "            <td>Smith</td>\n",
       "            <td>312 Oak Rd</td>\n",
       "            <td>Powell</td>\n",
       "            <td>WY</td>\n",
       "            <td>82440</td>\n",
       "            <td>307-982-8401</td>\n",
       "            <td>14912.92</td>\n",
       "            <td>0.04</td>\n",
       "        </tr>\n",
       "        <tr>\n",
       "            <td>20</td>\n",
       "            <td>Daniel</td>\n",
       "            <td>Jackson</td>\n",
       "            <td>19 Lookout Dr</td>\n",
       "            <td>Elk Butte</td>\n",
       "            <td>WY</td>\n",
       "            <td>82433</td>\n",
       "            <td>307-883-9481</td>\n",
       "            <td>0</td>\n",
       "            <td>0.04</td>\n",
       "        </tr>\n",
       "    </tbody>\n",
       "</table>"
      ],
      "text/plain": [
       "[('05', 'Susan', 'Garcia', '42 Mountain Ln', 'Cody', 'WY', '82414', '307-824-1245', 12743.16, 0.04),\n",
       " ('10', 'Richard', 'Miller', '87 Pikes Dr', 'Ralston', 'WY', '82440', '307-406-4321', 20872.11, 0.06),\n",
       " ('15', 'Donna', 'Smith', '312 Oak Rd', 'Powell', 'WY', '82440', '307-982-8401', 14912.92, 0.04),\n",
       " ('20', 'Daniel', 'Jackson', '19 Lookout Dr', 'Elk Butte', 'WY', '82433', '307-883-9481', 0, 0.04)]"
      ]
     },
     "execution_count": 5,
     "metadata": {},
     "output_type": "execute_result"
    }
   ],
   "source": [
    "%%sql\n",
    "SELECT * FROM SALES_REP"
   ]
  },
  {
   "cell_type": "markdown",
   "metadata": {},
   "source": [
    "CUSTOMER, ITEM, INVOICES, INVOICE_LINE Tables Creation"
   ]
  },
  {
   "cell_type": "code",
   "execution_count": 6,
   "metadata": {
    "id": "-DVmN6FnWmim"
   },
   "outputs": [
    {
     "name": "stdout",
     "output_type": "stream",
     "text": [
      " * sqlite:///KIMTAY.db\n",
      "Done.\n",
      "Done.\n",
      "1 rows affected.\n",
      "1 rows affected.\n",
      "1 rows affected.\n",
      "1 rows affected.\n",
      "1 rows affected.\n",
      "1 rows affected.\n",
      "1 rows affected.\n",
      "1 rows affected.\n",
      "1 rows affected.\n",
      "1 rows affected.\n",
      "1 rows affected.\n",
      "1 rows affected.\n",
      "Done.\n",
      "Done.\n",
      "1 rows affected.\n",
      "1 rows affected.\n",
      "1 rows affected.\n",
      "1 rows affected.\n",
      "1 rows affected.\n",
      "1 rows affected.\n",
      "1 rows affected.\n",
      "1 rows affected.\n",
      "1 rows affected.\n",
      "1 rows affected.\n",
      "1 rows affected.\n",
      "1 rows affected.\n",
      "1 rows affected.\n",
      "1 rows affected.\n",
      "1 rows affected.\n",
      "Done.\n",
      "Done.\n",
      "1 rows affected.\n",
      "1 rows affected.\n",
      "1 rows affected.\n",
      "1 rows affected.\n",
      "1 rows affected.\n",
      "1 rows affected.\n",
      "1 rows affected.\n",
      "1 rows affected.\n",
      "Done.\n",
      "Done.\n",
      "1 rows affected.\n",
      "1 rows affected.\n",
      "1 rows affected.\n",
      "1 rows affected.\n",
      "1 rows affected.\n",
      "1 rows affected.\n",
      "1 rows affected.\n",
      "1 rows affected.\n",
      "1 rows affected.\n",
      "1 rows affected.\n",
      "1 rows affected.\n",
      "1 rows affected.\n"
     ]
    },
    {
     "data": {
      "text/plain": [
       "[]"
      ]
     },
     "execution_count": 6,
     "metadata": {},
     "output_type": "execute_result"
    }
   ],
   "source": [
    "%%sql     \n",
    "\n",
    "DROP TABLE IF EXISTS CUSTOMER;\n",
    "CREATE TABLE CUSTOMER\n",
    "(\n",
    "   CUST_ID CHAR(3) PRIMARY KEY,\n",
    "   FIRST_NAME VARCHAR(20),\n",
    "   LAST_NAME VARCHAR(20),\n",
    "   ADDRESS VARCHAR(20),\n",
    "   CITY VARCHAR(15),\n",
    "   STATE CHAR(2),\n",
    "   POSTAL CHAR(5),\n",
    "   EMAIL VARCHAR(30),\n",
    "   BALANCE DECIMAL(7,2),\n",
    "   CREDIT_LIMIT DECIMAL (7,2),\n",
    "   REP_ID CHAR(2)\n",
    ");\n",
    "\n",
    "INSERT INTO CUSTOMER VALUES('125','Joey'    ,'Smith',     '17 Fourth St',      'Cody',     'WY','82414','jsmith17@example.com',    80.68 ,500.00   ,'05');              \n",
    "INSERT INTO CUSTOMER VALUES('182','Billy'   ,'Rufton',    '21 Simple Cir',     'Garland',  'WY','82435','billyruff@example.com',   43.13 ,750.00   ,'10');              \n",
    "INSERT INTO CUSTOMER VALUES('227','Sandra'  ,'Pincher',   '53 Verde Ln',       'Powell',   'WY','82440','spinch2@example.com',     156.38,500.00   ,'15');              \n",
    "INSERT INTO CUSTOMER VALUES('294','Samantha','Smith',     '14 Rock Ln',        'Ralston',  'WY','82440','ssmith5@example.com',     58.60 ,500.00   ,'10');              \n",
    "INSERT INTO CUSTOMER VALUES('314','Tom'     ,'Rascal',    '1 Rascal Farm Rd',  'Cody',     'WY','82414','trascal3@example.com',    17.25 ,250.00   ,'15');              \n",
    "INSERT INTO CUSTOMER VALUES('375','Melanie' ,'Jackson',   '42 Blackwater Way', 'Elk Butte','WY','82433','mjackson5@example.com',   252.25,250.00   ,'05');              \n",
    "INSERT INTO CUSTOMER VALUES('435','James'   ,'Gonzalez',  '16 Rockway Rd',     'Wapiti',   'WY','82450','jgonzo@example.com',      230.40,1000.00  ,'15');              \n",
    "INSERT INTO CUSTOMER VALUES('492','Elmer'   ,'Jackson',   '22 Jackson Farm Rd','Garland',  'WY','82435','ejackson4@example.com',   45.20 ,500.00   ,'10');              \n",
    "INSERT INTO CUSTOMER VALUES('543','Angie'   ,'Hendricks', '27 Locklear Ln',    'Powell',   'WY','82440','ahendricks7@example.com', 315.00,750.00   ,'05');              \n",
    "INSERT INTO CUSTOMER VALUES('616','Sally'   ,'Cruz',      '199 18th Ave',      'Ralston',  'WY','82440','scruz5@example.com',      8.33  ,500.00   ,'15');              \n",
    "INSERT INTO CUSTOMER VALUES('721','Leslie'  ,'Smith',     '123 Sheepland Rd',  'Elk Butte','WY','82433','lsmith12@example.com',    166.65,1000.00  ,'10');              \n",
    "INSERT INTO CUSTOMER VALUES('795','Randy'   ,'Blacksmith','75 Stream Rd',      'Cody',     'WY','82414','rblacksmith6@example.com',61.50 ,500.00   ,'05');              \n",
    "\n",
    "DROP TABLE IF EXISTS ITEM;\n",
    "CREATE TABLE ITEM\n",
    "(\n",
    "   ITEM_ID  CHAR(4) PRIMARY KEY,\n",
    "   DESCRIPTION VARCHAR(30),\n",
    "   ON_HAND NUMERIC,\n",
    "   CATEGORY CHAR(3),\n",
    "   LOCATION CHAR(1),\n",
    "   PRICE DECIMAL(7,2)\n",
    ");\n",
    "                                                     \n",
    "INSERT INTO ITEM VALUES('AD72','Dog Feeding Station'           ,'12','DOG','B',79.99 );\n",
    "INSERT INTO ITEM VALUES('BC33','Feathers Bird Cage (12x24x18)' ,'10','BRD','B',79.99 );\n",
    "INSERT INTO ITEM VALUES('CA75','Enclosed Cat Litter Station'   ,'15','CAT','C',39.99 );\n",
    "INSERT INTO ITEM VALUES('DT12','Dog Toy Gift Set'              ,'27','DOG','B',39.99 );\n",
    "INSERT INTO ITEM VALUES('FM23','Fly Mask with Ears'            ,'41','HOR','C',24.95 );\n",
    "INSERT INTO ITEM VALUES('FS39','Folding Saddle Stand'          ,'12','HOR','C',39.99 );\n",
    "INSERT INTO ITEM VALUES('FS42','Aquarium (55 Gallon)'          ,'5','FSH','A',124.99);\n",
    "INSERT INTO ITEM VALUES('KH81','Wild Bird Food (25 lb)'        ,'24','BRD','C',19.99 );\n",
    "INSERT INTO ITEM VALUES('LD14','Locking Small Dog Door'        ,'14','DOG','A',49.99 );\n",
    "INSERT INTO ITEM VALUES('LP73','Large Pet Carrier'             ,'23','DOG','B',59.99 );\n",
    "INSERT INTO ITEM VALUES('PF19','Pump & Filter Kit'             ,'5','FSH','A',74.99 );\n",
    "INSERT INTO ITEM VALUES('QB92','Quilted Stable Blanket'        ,'32','HOR','C',119.99);\n",
    "INSERT INTO ITEM VALUES('SP91','Small Pet Carrier'             ,'18','CAT','B',39.99 );\n",
    "INSERT INTO ITEM VALUES('UF39','Underground Fence System'      ,'7','DOG','A',199.99);\n",
    "INSERT INTO ITEM VALUES('WB49','Insulated Water Bucket'        ,'34','HOR','C',79.99 );\n",
    "                               \n",
    "DROP TABLE IF EXISTS INVOICES;\n",
    "CREATE TABLE INVOICES\n",
    "(\n",
    "    INVOICE_NUM CHAR(5) PRIMARY KEY,\n",
    "    INVOICE_DATE DATE,\n",
    "    CUST_ID VARCHAR(3)\n",
    ");\n",
    "\n",
    "\n",
    "INSERT INTO INVOICES VALUES('14216','2021-11-15','125');      \n",
    "INSERT INTO INVOICES VALUES('14219','2021-11-15','227');      \n",
    "INSERT INTO INVOICES VALUES('14222','2021-11-16','294');      \n",
    "INSERT INTO INVOICES VALUES('14224','2021-11-16','182');      \n",
    "INSERT INTO INVOICES VALUES('14228','2021-11-18','435');      \n",
    "INSERT INTO INVOICES VALUES('14231','2021-11-18','125');      \n",
    "INSERT INTO INVOICES VALUES('14233','2021-11-18','435');      \n",
    "INSERT INTO INVOICES VALUES('14237','2021-11-19','616');      \n",
    "\n",
    "\n",
    "DROP TABLE IF EXISTS INVOICE_LINE;\n",
    "CREATE TABLE INVOICE_LINE\n",
    "(\n",
    "   INVOICE_NUM CHAR(5),\n",
    "   ITEM_ID CHAR(4),\n",
    "   QUANTITY NUMERIC,\n",
    "   QUOTED_PRICE DECIMAL(7,2),\n",
    "   PRIMARY KEY (INVOICE_NUM, ITEM_ID)\n",
    ");\n",
    "\n",
    "INSERT INTO INVOICE_LINE VALUES('14216','CA75',3,37.99 );               \n",
    "INSERT INTO INVOICE_LINE VALUES('14219','AD72',2,79.99 );               \n",
    "INSERT INTO INVOICE_LINE VALUES('14219','DT12',4,39.99 );               \n",
    "INSERT INTO INVOICE_LINE VALUES('14222','LD14',1,47.99 );               \n",
    "INSERT INTO INVOICE_LINE VALUES('14224','KH81',4,18.99 );               \n",
    "INSERT INTO INVOICE_LINE VALUES('14228','FS42',1,124.99);               \n",
    "INSERT INTO INVOICE_LINE VALUES('14228','PF19',1,74.99 );               \n",
    "INSERT INTO INVOICE_LINE VALUES('14231','UF39',2,189.99);               \n",
    "INSERT INTO INVOICE_LINE VALUES('14233','KH81',1,19.99 );               \n",
    "INSERT INTO INVOICE_LINE VALUES('14233','QB92',4,109.95);               \n",
    "INSERT INTO INVOICE_LINE VALUES('14233','WB49',4,74.95 );               \n",
    "INSERT INTO INVOICE_LINE VALUES('14237','LP73',3,54.95 ); "
   ]
  },
  {
   "cell_type": "markdown",
   "metadata": {
    "id": "D8G6m57ZslOu"
   },
   "source": [
    "## Simple Queries Examples"
   ]
  },
  {
   "cell_type": "markdown",
   "metadata": {},
   "source": [
    "### Visualizing a single table\n",
    "\n",
    "In SQL, the command we use to see the contents of a table is the [**`SELECT`**](https://www.w3schools.com/sql/sql_select.asp) command. In Excel you simply open the spreadsheet and the data appears immediately before your eyes. With SQL, it is a bit different. You have to \"call\" or \"query\" the data with `SELECT`. The syntax is as follows:\n",
    "\n",
    "~~~sql\n",
    "SELECT column_name(s) FROM table_name\n",
    "~~~\n",
    "\n",
    "For instance, if we wanted to retrieve the `FIRST_NAME` and the `LAST_NAME`columnS from the `CUSTOMER` table, this would be the code:"
   ]
  },
  {
   "cell_type": "code",
   "execution_count": 7,
   "metadata": {},
   "outputs": [
    {
     "name": "stdout",
     "output_type": "stream",
     "text": [
      " * sqlite:///KIMTAY.db\n",
      "Done.\n"
     ]
    },
    {
     "data": {
      "text/html": [
       "<table>\n",
       "    <thead>\n",
       "        <tr>\n",
       "            <th>FIRST_NAME</th>\n",
       "            <th>LAST_NAME</th>\n",
       "        </tr>\n",
       "    </thead>\n",
       "    <tbody>\n",
       "        <tr>\n",
       "            <td>Joey</td>\n",
       "            <td>Smith</td>\n",
       "        </tr>\n",
       "        <tr>\n",
       "            <td>Billy</td>\n",
       "            <td>Rufton</td>\n",
       "        </tr>\n",
       "        <tr>\n",
       "            <td>Sandra</td>\n",
       "            <td>Pincher</td>\n",
       "        </tr>\n",
       "        <tr>\n",
       "            <td>Samantha</td>\n",
       "            <td>Smith</td>\n",
       "        </tr>\n",
       "        <tr>\n",
       "            <td>Tom</td>\n",
       "            <td>Rascal</td>\n",
       "        </tr>\n",
       "        <tr>\n",
       "            <td>Melanie</td>\n",
       "            <td>Jackson</td>\n",
       "        </tr>\n",
       "        <tr>\n",
       "            <td>James</td>\n",
       "            <td>Gonzalez</td>\n",
       "        </tr>\n",
       "        <tr>\n",
       "            <td>Elmer</td>\n",
       "            <td>Jackson</td>\n",
       "        </tr>\n",
       "        <tr>\n",
       "            <td>Angie</td>\n",
       "            <td>Hendricks</td>\n",
       "        </tr>\n",
       "        <tr>\n",
       "            <td>Sally</td>\n",
       "            <td>Cruz</td>\n",
       "        </tr>\n",
       "        <tr>\n",
       "            <td>Leslie</td>\n",
       "            <td>Smith</td>\n",
       "        </tr>\n",
       "        <tr>\n",
       "            <td>Randy</td>\n",
       "            <td>Blacksmith</td>\n",
       "        </tr>\n",
       "    </tbody>\n",
       "</table>"
      ],
      "text/plain": [
       "[('Joey', 'Smith'),\n",
       " ('Billy', 'Rufton'),\n",
       " ('Sandra', 'Pincher'),\n",
       " ('Samantha', 'Smith'),\n",
       " ('Tom', 'Rascal'),\n",
       " ('Melanie', 'Jackson'),\n",
       " ('James', 'Gonzalez'),\n",
       " ('Elmer', 'Jackson'),\n",
       " ('Angie', 'Hendricks'),\n",
       " ('Sally', 'Cruz'),\n",
       " ('Leslie', 'Smith'),\n",
       " ('Randy', 'Blacksmith')]"
      ]
     },
     "execution_count": 7,
     "metadata": {},
     "output_type": "execute_result"
    }
   ],
   "source": [
    "%%sql\n",
    "\n",
    "SELECT FIRST_NAME, LAST_NAME FROM CUSTOMER;"
   ]
  },
  {
   "cell_type": "markdown",
   "metadata": {},
   "source": [
    "If you want to apply filters to your table, you have to use the [**`WHERE`**](https://www.w3schools.com/sql/sql_where.asp) keyword. This keyword establishes the conditions that you want to filter by. For instance, if you want to see only the customers that were served by the sales rep with ID 15. \n",
    "\n",
    "~~~sql\n",
    "WHERE REP_ID = '15'\n",
    "~~~\n",
    "\n",
    "In context:"
   ]
  },
  {
   "cell_type": "code",
   "execution_count": 8,
   "metadata": {},
   "outputs": [
    {
     "name": "stdout",
     "output_type": "stream",
     "text": [
      " * sqlite:///KIMTAY.db\n",
      "Done.\n"
     ]
    },
    {
     "data": {
      "text/html": [
       "<table>\n",
       "    <thead>\n",
       "        <tr>\n",
       "            <th>FIRST_NAME</th>\n",
       "            <th>LAST_NAME</th>\n",
       "        </tr>\n",
       "    </thead>\n",
       "    <tbody>\n",
       "        <tr>\n",
       "            <td>Sandra</td>\n",
       "            <td>Pincher</td>\n",
       "        </tr>\n",
       "        <tr>\n",
       "            <td>Tom</td>\n",
       "            <td>Rascal</td>\n",
       "        </tr>\n",
       "        <tr>\n",
       "            <td>James</td>\n",
       "            <td>Gonzalez</td>\n",
       "        </tr>\n",
       "        <tr>\n",
       "            <td>Sally</td>\n",
       "            <td>Cruz</td>\n",
       "        </tr>\n",
       "    </tbody>\n",
       "</table>"
      ],
      "text/plain": [
       "[('Sandra', 'Pincher'),\n",
       " ('Tom', 'Rascal'),\n",
       " ('James', 'Gonzalez'),\n",
       " ('Sally', 'Cruz')]"
      ]
     },
     "execution_count": 8,
     "metadata": {},
     "output_type": "execute_result"
    }
   ],
   "source": [
    "%%sql\n",
    "\n",
    "SELECT FIRST_NAME, LAST_NAME FROM CUSTOMER WHERE REP_ID = '15';"
   ]
  },
  {
   "cell_type": "markdown",
   "metadata": {},
   "source": [
    "### Comparison operators \n",
    "\n",
    "( =, >, <, >=, <=, <>)\n",
    "\n",
    "Examples:"
   ]
  },
  {
   "cell_type": "markdown",
   "metadata": {},
   "source": [
    "**Example (1)**\n",
    "\n",
    "Retrive the last name of the customer with the ID 125"
   ]
  },
  {
   "cell_type": "code",
   "execution_count": 9,
   "metadata": {},
   "outputs": [
    {
     "name": "stdout",
     "output_type": "stream",
     "text": [
      " * sqlite:///KIMTAY.db\n",
      "Done.\n"
     ]
    },
    {
     "data": {
      "text/html": [
       "<table>\n",
       "    <thead>\n",
       "        <tr>\n",
       "            <th>LAST_NAME</th>\n",
       "        </tr>\n",
       "    </thead>\n",
       "    <tbody>\n",
       "        <tr>\n",
       "            <td>Smith</td>\n",
       "        </tr>\n",
       "    </tbody>\n",
       "</table>"
      ],
      "text/plain": [
       "[('Smith',)]"
      ]
     },
     "execution_count": 9,
     "metadata": {},
     "output_type": "execute_result"
    }
   ],
   "source": [
    "%%sql\n",
    "SELECT LAST_NAME \n",
    "FROM CUSTOMER \n",
    "WHERE CUST_ID = '125';"
   ]
  },
  {
   "cell_type": "markdown",
   "metadata": {},
   "source": [
    "**Example (2)**\n",
    "\n",
    "Retrive a table of customers who have a balance that is greater than their credit limit"
   ]
  },
  {
   "cell_type": "code",
   "execution_count": 10,
   "metadata": {},
   "outputs": [
    {
     "name": "stdout",
     "output_type": "stream",
     "text": [
      " * sqlite:///KIMTAY.db\n",
      "Done.\n"
     ]
    },
    {
     "data": {
      "text/html": [
       "<table>\n",
       "    <thead>\n",
       "        <tr>\n",
       "            <th>FIRST_NAME</th>\n",
       "            <th>LAST_NAME</th>\n",
       "            <th>BALANCE</th>\n",
       "            <th>CREDIT_LIMIT</th>\n",
       "        </tr>\n",
       "    </thead>\n",
       "    <tbody>\n",
       "        <tr>\n",
       "            <td>Melanie</td>\n",
       "            <td>Jackson</td>\n",
       "            <td>252.25</td>\n",
       "            <td>250</td>\n",
       "        </tr>\n",
       "    </tbody>\n",
       "</table>"
      ],
      "text/plain": [
       "[('Melanie', 'Jackson', 252.25, 250)]"
      ]
     },
     "execution_count": 10,
     "metadata": {},
     "output_type": "execute_result"
    }
   ],
   "source": [
    "%%sql\n",
    "SELECT FIRST_NAME, LAST_NAME, BALANCE, CREDIT_LIMIT\n",
    "FROM CUSTOMER\n",
    "WHERE BALANCE > CREDIT_LIMIT;"
   ]
  },
  {
   "cell_type": "markdown",
   "metadata": {},
   "source": [
    "### Compound conditions \n",
    "\n",
    "(and, or, not)\n",
    "\n",
    "*And*: all simple conditions must be **TRUE**\n",
    "\n",
    "*Or*: one simple condition must be **TRUE**\n",
    "\n",
    "*Not*: reverses the **truth** of the original condition"
   ]
  },
  {
   "cell_type": "markdown",
   "metadata": {},
   "source": [
    "**Example (3)**\n",
    "\n",
    "Return a list of descriptions of items that are located in location B and have a quantity on hand greater than 15"
   ]
  },
  {
   "cell_type": "code",
   "execution_count": 11,
   "metadata": {},
   "outputs": [
    {
     "name": "stdout",
     "output_type": "stream",
     "text": [
      " * sqlite:///KIMTAY.db\n",
      "Done.\n"
     ]
    },
    {
     "data": {
      "text/html": [
       "<table>\n",
       "    <thead>\n",
       "        <tr>\n",
       "            <th>DESCRIPTION</th>\n",
       "        </tr>\n",
       "    </thead>\n",
       "    <tbody>\n",
       "        <tr>\n",
       "            <td>Dog Toy Gift Set</td>\n",
       "        </tr>\n",
       "        <tr>\n",
       "            <td>Large Pet Carrier</td>\n",
       "        </tr>\n",
       "        <tr>\n",
       "            <td>Small Pet Carrier</td>\n",
       "        </tr>\n",
       "    </tbody>\n",
       "</table>"
      ],
      "text/plain": [
       "[('Dog Toy Gift Set',), ('Large Pet Carrier',), ('Small Pet Carrier',)]"
      ]
     },
     "execution_count": 11,
     "metadata": {},
     "output_type": "execute_result"
    }
   ],
   "source": [
    "%%sql\n",
    "SELECT DESCRIPTION \n",
    "FROM ITEM \n",
    "WHERE LOCATION = 'B' AND ON_HAND> 15;"
   ]
  },
  {
   "cell_type": "markdown",
   "metadata": {},
   "source": [
    "**Example (4)**\n",
    "\n",
    "Return a list of descriptions of items that are located in location B or have a quantity on hand greater than 15"
   ]
  },
  {
   "cell_type": "code",
   "execution_count": 12,
   "metadata": {},
   "outputs": [
    {
     "name": "stdout",
     "output_type": "stream",
     "text": [
      " * sqlite:///KIMTAY.db\n",
      "Done.\n"
     ]
    },
    {
     "data": {
      "text/html": [
       "<table>\n",
       "    <thead>\n",
       "        <tr>\n",
       "            <th>DESCRIPTION</th>\n",
       "        </tr>\n",
       "    </thead>\n",
       "    <tbody>\n",
       "        <tr>\n",
       "            <td>Dog Feeding Station</td>\n",
       "        </tr>\n",
       "        <tr>\n",
       "            <td>Feathers Bird Cage (12x24x18)</td>\n",
       "        </tr>\n",
       "        <tr>\n",
       "            <td>Dog Toy Gift Set</td>\n",
       "        </tr>\n",
       "        <tr>\n",
       "            <td>Fly Mask with Ears</td>\n",
       "        </tr>\n",
       "        <tr>\n",
       "            <td>Wild Bird Food (25 lb)</td>\n",
       "        </tr>\n",
       "        <tr>\n",
       "            <td>Large Pet Carrier</td>\n",
       "        </tr>\n",
       "        <tr>\n",
       "            <td>Quilted Stable Blanket</td>\n",
       "        </tr>\n",
       "        <tr>\n",
       "            <td>Small Pet Carrier</td>\n",
       "        </tr>\n",
       "        <tr>\n",
       "            <td>Insulated Water Bucket</td>\n",
       "        </tr>\n",
       "    </tbody>\n",
       "</table>"
      ],
      "text/plain": [
       "[('Dog Feeding Station',),\n",
       " ('Feathers Bird Cage (12x24x18)',),\n",
       " ('Dog Toy Gift Set',),\n",
       " ('Fly Mask with Ears',),\n",
       " ('Wild Bird Food (25 lb)',),\n",
       " ('Large Pet Carrier',),\n",
       " ('Quilted Stable Blanket',),\n",
       " ('Small Pet Carrier',),\n",
       " ('Insulated Water Bucket',)]"
      ]
     },
     "execution_count": 12,
     "metadata": {},
     "output_type": "execute_result"
    }
   ],
   "source": [
    "%%sql\n",
    "SELECT DESCRIPTION\n",
    "FROM ITEM\n",
    "WHERE (LOCATION = 'B') OR (ON_HAND >15);"
   ]
  },
  {
   "cell_type": "markdown",
   "metadata": {},
   "source": [
    "**Example (5)**\n",
    "\n",
    "Return a list of descriptions of items that are not located in location B"
   ]
  },
  {
   "cell_type": "code",
   "execution_count": 13,
   "metadata": {},
   "outputs": [
    {
     "name": "stdout",
     "output_type": "stream",
     "text": [
      " * sqlite:///KIMTAY.db\n",
      "Done.\n"
     ]
    },
    {
     "data": {
      "text/html": [
       "<table>\n",
       "    <thead>\n",
       "        <tr>\n",
       "            <th>DESCRIPTION</th>\n",
       "        </tr>\n",
       "    </thead>\n",
       "    <tbody>\n",
       "        <tr>\n",
       "            <td>Enclosed Cat Litter Station</td>\n",
       "        </tr>\n",
       "        <tr>\n",
       "            <td>Fly Mask with Ears</td>\n",
       "        </tr>\n",
       "        <tr>\n",
       "            <td>Folding Saddle Stand</td>\n",
       "        </tr>\n",
       "        <tr>\n",
       "            <td>Aquarium (55 Gallon)</td>\n",
       "        </tr>\n",
       "        <tr>\n",
       "            <td>Wild Bird Food (25 lb)</td>\n",
       "        </tr>\n",
       "        <tr>\n",
       "            <td>Locking Small Dog Door</td>\n",
       "        </tr>\n",
       "        <tr>\n",
       "            <td>Pump &amp; Filter Kit</td>\n",
       "        </tr>\n",
       "        <tr>\n",
       "            <td>Quilted Stable Blanket</td>\n",
       "        </tr>\n",
       "        <tr>\n",
       "            <td>Underground Fence System</td>\n",
       "        </tr>\n",
       "        <tr>\n",
       "            <td>Insulated Water Bucket</td>\n",
       "        </tr>\n",
       "    </tbody>\n",
       "</table>"
      ],
      "text/plain": [
       "[('Enclosed Cat Litter Station',),\n",
       " ('Fly Mask with Ears',),\n",
       " ('Folding Saddle Stand',),\n",
       " ('Aquarium (55 Gallon)',),\n",
       " ('Wild Bird Food (25 lb)',),\n",
       " ('Locking Small Dog Door',),\n",
       " ('Pump & Filter Kit',),\n",
       " ('Quilted Stable Blanket',),\n",
       " ('Underground Fence System',),\n",
       " ('Insulated Water Bucket',)]"
      ]
     },
     "execution_count": 13,
     "metadata": {},
     "output_type": "execute_result"
    }
   ],
   "source": [
    "%%sql\n",
    "SELECT DESCRIPTION\n",
    "FROM ITEM\n",
    "WHERE NOT LOCATION = 'B';"
   ]
  },
  {
   "cell_type": "markdown",
   "metadata": {},
   "source": [
    "### Derived Attributes\n",
    "\n",
    "Using arithmetic operators (+, -, *, /)\n",
    "\n",
    "**[AS]** clause (assign a name to a computed column)"
   ]
  },
  {
   "cell_type": "markdown",
   "metadata": {},
   "source": [
    "**Example (6)**\n",
    "\n",
    "Return a table of customers with their ID, first name, last name, and available credit"
   ]
  },
  {
   "cell_type": "code",
   "execution_count": 14,
   "metadata": {},
   "outputs": [
    {
     "name": "stdout",
     "output_type": "stream",
     "text": [
      " * sqlite:///KIMTAY.db\n",
      "Done.\n"
     ]
    },
    {
     "data": {
      "text/html": [
       "<table>\n",
       "    <thead>\n",
       "        <tr>\n",
       "            <th>CUST_ID</th>\n",
       "            <th>FIRST_NAME</th>\n",
       "            <th>LAST_NAME</th>\n",
       "            <th>AVAILABLE_CREDIT</th>\n",
       "        </tr>\n",
       "    </thead>\n",
       "    <tbody>\n",
       "        <tr>\n",
       "            <td>125</td>\n",
       "            <td>Joey</td>\n",
       "            <td>Smith</td>\n",
       "            <td>419.32</td>\n",
       "        </tr>\n",
       "        <tr>\n",
       "            <td>182</td>\n",
       "            <td>Billy</td>\n",
       "            <td>Rufton</td>\n",
       "            <td>706.87</td>\n",
       "        </tr>\n",
       "        <tr>\n",
       "            <td>227</td>\n",
       "            <td>Sandra</td>\n",
       "            <td>Pincher</td>\n",
       "            <td>343.62</td>\n",
       "        </tr>\n",
       "        <tr>\n",
       "            <td>294</td>\n",
       "            <td>Samantha</td>\n",
       "            <td>Smith</td>\n",
       "            <td>441.4</td>\n",
       "        </tr>\n",
       "        <tr>\n",
       "            <td>314</td>\n",
       "            <td>Tom</td>\n",
       "            <td>Rascal</td>\n",
       "            <td>232.75</td>\n",
       "        </tr>\n",
       "        <tr>\n",
       "            <td>375</td>\n",
       "            <td>Melanie</td>\n",
       "            <td>Jackson</td>\n",
       "            <td>-2.25</td>\n",
       "        </tr>\n",
       "        <tr>\n",
       "            <td>435</td>\n",
       "            <td>James</td>\n",
       "            <td>Gonzalez</td>\n",
       "            <td>769.6</td>\n",
       "        </tr>\n",
       "        <tr>\n",
       "            <td>492</td>\n",
       "            <td>Elmer</td>\n",
       "            <td>Jackson</td>\n",
       "            <td>454.8</td>\n",
       "        </tr>\n",
       "        <tr>\n",
       "            <td>543</td>\n",
       "            <td>Angie</td>\n",
       "            <td>Hendricks</td>\n",
       "            <td>435</td>\n",
       "        </tr>\n",
       "        <tr>\n",
       "            <td>616</td>\n",
       "            <td>Sally</td>\n",
       "            <td>Cruz</td>\n",
       "            <td>491.67</td>\n",
       "        </tr>\n",
       "        <tr>\n",
       "            <td>721</td>\n",
       "            <td>Leslie</td>\n",
       "            <td>Smith</td>\n",
       "            <td>833.35</td>\n",
       "        </tr>\n",
       "        <tr>\n",
       "            <td>795</td>\n",
       "            <td>Randy</td>\n",
       "            <td>Blacksmith</td>\n",
       "            <td>438.5</td>\n",
       "        </tr>\n",
       "    </tbody>\n",
       "</table>"
      ],
      "text/plain": [
       "[('125', 'Joey', 'Smith', 419.32),\n",
       " ('182', 'Billy', 'Rufton', 706.87),\n",
       " ('227', 'Sandra', 'Pincher', 343.62),\n",
       " ('294', 'Samantha', 'Smith', 441.4),\n",
       " ('314', 'Tom', 'Rascal', 232.75),\n",
       " ('375', 'Melanie', 'Jackson', -2.25),\n",
       " ('435', 'James', 'Gonzalez', 769.6),\n",
       " ('492', 'Elmer', 'Jackson', 454.8),\n",
       " ('543', 'Angie', 'Hendricks', 435),\n",
       " ('616', 'Sally', 'Cruz', 491.67),\n",
       " ('721', 'Leslie', 'Smith', 833.35),\n",
       " ('795', 'Randy', 'Blacksmith', 438.5)]"
      ]
     },
     "execution_count": 14,
     "metadata": {},
     "output_type": "execute_result"
    }
   ],
   "source": [
    "%%sql\n",
    "SELECT CUST_ID, FIRST_NAME, LAST_NAME, CREDIT_LIMIT - BALANCE AS AVAILABLE_CREDIT\n",
    "FROM CUSTOMER;"
   ]
  },
  {
   "cell_type": "markdown",
   "metadata": {},
   "source": [
    "### Sorting"
   ]
  },
  {
   "cell_type": "markdown",
   "metadata": {},
   "source": [
    "**Example (7)**\n",
    "\n",
    "Return able of customers with their ID, first name, last name, and balance, ordered by balance from lowest to highest"
   ]
  },
  {
   "cell_type": "code",
   "execution_count": 15,
   "metadata": {},
   "outputs": [
    {
     "name": "stdout",
     "output_type": "stream",
     "text": [
      " * sqlite:///KIMTAY.db\n",
      "Done.\n"
     ]
    },
    {
     "data": {
      "text/html": [
       "<table>\n",
       "    <thead>\n",
       "        <tr>\n",
       "            <th>CUST_ID</th>\n",
       "            <th>FIRST_NAME</th>\n",
       "            <th>LAST_NAME</th>\n",
       "            <th>BALANCE</th>\n",
       "        </tr>\n",
       "    </thead>\n",
       "    <tbody>\n",
       "        <tr>\n",
       "            <td>616</td>\n",
       "            <td>Sally</td>\n",
       "            <td>Cruz</td>\n",
       "            <td>8.33</td>\n",
       "        </tr>\n",
       "        <tr>\n",
       "            <td>314</td>\n",
       "            <td>Tom</td>\n",
       "            <td>Rascal</td>\n",
       "            <td>17.25</td>\n",
       "        </tr>\n",
       "        <tr>\n",
       "            <td>182</td>\n",
       "            <td>Billy</td>\n",
       "            <td>Rufton</td>\n",
       "            <td>43.13</td>\n",
       "        </tr>\n",
       "        <tr>\n",
       "            <td>492</td>\n",
       "            <td>Elmer</td>\n",
       "            <td>Jackson</td>\n",
       "            <td>45.2</td>\n",
       "        </tr>\n",
       "        <tr>\n",
       "            <td>294</td>\n",
       "            <td>Samantha</td>\n",
       "            <td>Smith</td>\n",
       "            <td>58.6</td>\n",
       "        </tr>\n",
       "        <tr>\n",
       "            <td>795</td>\n",
       "            <td>Randy</td>\n",
       "            <td>Blacksmith</td>\n",
       "            <td>61.5</td>\n",
       "        </tr>\n",
       "        <tr>\n",
       "            <td>125</td>\n",
       "            <td>Joey</td>\n",
       "            <td>Smith</td>\n",
       "            <td>80.68</td>\n",
       "        </tr>\n",
       "        <tr>\n",
       "            <td>227</td>\n",
       "            <td>Sandra</td>\n",
       "            <td>Pincher</td>\n",
       "            <td>156.38</td>\n",
       "        </tr>\n",
       "        <tr>\n",
       "            <td>721</td>\n",
       "            <td>Leslie</td>\n",
       "            <td>Smith</td>\n",
       "            <td>166.65</td>\n",
       "        </tr>\n",
       "        <tr>\n",
       "            <td>435</td>\n",
       "            <td>James</td>\n",
       "            <td>Gonzalez</td>\n",
       "            <td>230.4</td>\n",
       "        </tr>\n",
       "        <tr>\n",
       "            <td>375</td>\n",
       "            <td>Melanie</td>\n",
       "            <td>Jackson</td>\n",
       "            <td>252.25</td>\n",
       "        </tr>\n",
       "        <tr>\n",
       "            <td>543</td>\n",
       "            <td>Angie</td>\n",
       "            <td>Hendricks</td>\n",
       "            <td>315</td>\n",
       "        </tr>\n",
       "    </tbody>\n",
       "</table>"
      ],
      "text/plain": [
       "[('616', 'Sally', 'Cruz', 8.33),\n",
       " ('314', 'Tom', 'Rascal', 17.25),\n",
       " ('182', 'Billy', 'Rufton', 43.13),\n",
       " ('492', 'Elmer', 'Jackson', 45.2),\n",
       " ('294', 'Samantha', 'Smith', 58.6),\n",
       " ('795', 'Randy', 'Blacksmith', 61.5),\n",
       " ('125', 'Joey', 'Smith', 80.68),\n",
       " ('227', 'Sandra', 'Pincher', 156.38),\n",
       " ('721', 'Leslie', 'Smith', 166.65),\n",
       " ('435', 'James', 'Gonzalez', 230.4),\n",
       " ('375', 'Melanie', 'Jackson', 252.25),\n",
       " ('543', 'Angie', 'Hendricks', 315)]"
      ]
     },
     "execution_count": 15,
     "metadata": {},
     "output_type": "execute_result"
    }
   ],
   "source": [
    "%%sql\n",
    "SELECT CUST_ID, FIRST_NAME, LAST_NAME, BALANCE\n",
    "FROM CUSTOMER\n",
    "ORDER BY BALANCE;"
   ]
  },
  {
   "cell_type": "markdown",
   "metadata": {},
   "source": [
    "**Additional sorting options**\n",
    "\n",
    "Sorting data on two columns: major and minor sort keys\n",
    "\n",
    "For descending order sort use DESC"
   ]
  },
  {
   "cell_type": "markdown",
   "metadata": {},
   "source": [
    "**Example (8)**\n",
    "\n",
    "Return a table of customers with their ID, first name, last name, and credit limit, ordered by credit limit from highest to lowest, and then by last name"
   ]
  },
  {
   "cell_type": "code",
   "execution_count": 17,
   "metadata": {},
   "outputs": [
    {
     "name": "stdout",
     "output_type": "stream",
     "text": [
      " * sqlite:///KIMTAY.db\n",
      "Done.\n"
     ]
    },
    {
     "data": {
      "text/html": [
       "<table>\n",
       "    <thead>\n",
       "        <tr>\n",
       "            <th>CUST_ID</th>\n",
       "            <th>FIRST_NAME</th>\n",
       "            <th>LAST_NAME</th>\n",
       "            <th>CREDIT_LIMIT</th>\n",
       "        </tr>\n",
       "    </thead>\n",
       "    <tbody>\n",
       "        <tr>\n",
       "            <td>435</td>\n",
       "            <td>James</td>\n",
       "            <td>Gonzalez</td>\n",
       "            <td>1000</td>\n",
       "        </tr>\n",
       "        <tr>\n",
       "            <td>721</td>\n",
       "            <td>Leslie</td>\n",
       "            <td>Smith</td>\n",
       "            <td>1000</td>\n",
       "        </tr>\n",
       "        <tr>\n",
       "            <td>543</td>\n",
       "            <td>Angie</td>\n",
       "            <td>Hendricks</td>\n",
       "            <td>750</td>\n",
       "        </tr>\n",
       "        <tr>\n",
       "            <td>182</td>\n",
       "            <td>Billy</td>\n",
       "            <td>Rufton</td>\n",
       "            <td>750</td>\n",
       "        </tr>\n",
       "        <tr>\n",
       "            <td>795</td>\n",
       "            <td>Randy</td>\n",
       "            <td>Blacksmith</td>\n",
       "            <td>500</td>\n",
       "        </tr>\n",
       "        <tr>\n",
       "            <td>616</td>\n",
       "            <td>Sally</td>\n",
       "            <td>Cruz</td>\n",
       "            <td>500</td>\n",
       "        </tr>\n",
       "        <tr>\n",
       "            <td>492</td>\n",
       "            <td>Elmer</td>\n",
       "            <td>Jackson</td>\n",
       "            <td>500</td>\n",
       "        </tr>\n",
       "        <tr>\n",
       "            <td>227</td>\n",
       "            <td>Sandra</td>\n",
       "            <td>Pincher</td>\n",
       "            <td>500</td>\n",
       "        </tr>\n",
       "        <tr>\n",
       "            <td>125</td>\n",
       "            <td>Joey</td>\n",
       "            <td>Smith</td>\n",
       "            <td>500</td>\n",
       "        </tr>\n",
       "        <tr>\n",
       "            <td>294</td>\n",
       "            <td>Samantha</td>\n",
       "            <td>Smith</td>\n",
       "            <td>500</td>\n",
       "        </tr>\n",
       "        <tr>\n",
       "            <td>375</td>\n",
       "            <td>Melanie</td>\n",
       "            <td>Jackson</td>\n",
       "            <td>250</td>\n",
       "        </tr>\n",
       "        <tr>\n",
       "            <td>314</td>\n",
       "            <td>Tom</td>\n",
       "            <td>Rascal</td>\n",
       "            <td>250</td>\n",
       "        </tr>\n",
       "    </tbody>\n",
       "</table>"
      ],
      "text/plain": [
       "[('435', 'James', 'Gonzalez', 1000),\n",
       " ('721', 'Leslie', 'Smith', 1000),\n",
       " ('543', 'Angie', 'Hendricks', 750),\n",
       " ('182', 'Billy', 'Rufton', 750),\n",
       " ('795', 'Randy', 'Blacksmith', 500),\n",
       " ('616', 'Sally', 'Cruz', 500),\n",
       " ('492', 'Elmer', 'Jackson', 500),\n",
       " ('227', 'Sandra', 'Pincher', 500),\n",
       " ('125', 'Joey', 'Smith', 500),\n",
       " ('294', 'Samantha', 'Smith', 500),\n",
       " ('375', 'Melanie', 'Jackson', 250),\n",
       " ('314', 'Tom', 'Rascal', 250)]"
      ]
     },
     "execution_count": 17,
     "metadata": {},
     "output_type": "execute_result"
    }
   ],
   "source": [
    "%%sql\n",
    "SELECT CUST_ID, FIRST_NAME, LAST_NAME, CREDIT_LIMIT\n",
    "FROM CUSTOMER\n",
    "ORDER BY CREDIT_LIMIT DESC, LAST_NAME;\n"
   ]
  },
  {
   "cell_type": "markdown",
   "metadata": {},
   "source": [
    "### Agregation Functions\n",
    "\n",
    "The following are the most commonly used SQL aggregation functions:\n",
    "\n",
    "1. **`AVG()`** – calculates the average of a set of values\n",
    "2. **`COUNT()`** – counts rows in a specified table or view\n",
    "3. **`MIN()`** – gets the minimum value in a set of values\n",
    "4. **`MAX()`** – gets the maximum value in a set of values\n",
    "5. **`SUM()`** – calculates the sum of values"
   ]
  },
  {
   "cell_type": "markdown",
   "metadata": {},
   "source": [
    "**Example (9)**\n",
    "\n",
    "Return a table with three columns, where:\n",
    "\n",
    "1. TOTAL_BALANCE is the total balance of all customers.\n",
    "2. MAX_BALANCE is the maximum balance of any customer.\n",
    "3. MIN_BALANCE is the minimum balance of any customer."
   ]
  },
  {
   "cell_type": "code",
   "execution_count": 18,
   "metadata": {},
   "outputs": [
    {
     "name": "stdout",
     "output_type": "stream",
     "text": [
      " * sqlite:///KIMTAY.db\n",
      "Done.\n"
     ]
    },
    {
     "data": {
      "text/html": [
       "<table>\n",
       "    <thead>\n",
       "        <tr>\n",
       "            <th>TOTAL_BALANCE</th>\n",
       "            <th>MAX_BALANCE</th>\n",
       "            <th>MIN_BALANCE</th>\n",
       "        </tr>\n",
       "    </thead>\n",
       "    <tbody>\n",
       "        <tr>\n",
       "            <td>1435.37</td>\n",
       "            <td>315</td>\n",
       "            <td>8.33</td>\n",
       "        </tr>\n",
       "    </tbody>\n",
       "</table>"
      ],
      "text/plain": [
       "[(1435.37, 315, 8.33)]"
      ]
     },
     "execution_count": 18,
     "metadata": {},
     "output_type": "execute_result"
    }
   ],
   "source": [
    "%%sql\n",
    "SELECT SUM(BALANCE) AS TOTAL_BALANCE, MAX(BALANCE) AS MAX_BALANCE, MIN(BALANCE) AS MIN_BALANCE\n",
    "FROM CUSTOMER;"
   ]
  },
  {
   "cell_type": "markdown",
   "metadata": {},
   "source": [
    "### Group by and Having\n",
    "**Grouping:**\n",
    "    \n",
    "Creates groups of rows that share common characteristics. When grouping rows, any calculations indicated in the [**`SELECT`**] command are performed for the entire group. This is done with the [**`GROUP BY`**](https://www.w3schools.com/sql/sql_groupby.asp) keyword, followed by a column to group by.\n",
    "\n",
    "**Having clause:**\n",
    "\n",
    "Used to restrict groups that will be included in query results.\n",
    "\n",
    "*Having VS Where:**\n",
    "1. Where: Limits rows\n",
    "2. Having: Limits groups\n",
    "3. Can be used together if condition involves both rows and groups\n"
   ]
  },
  {
   "cell_type": "markdown",
   "metadata": {},
   "source": [
    "**Example (10)**\n",
    "\n",
    "Return a table with two columns, where MEAN_BALANCE is the average balance of customers assigned to each representative id."
   ]
  },
  {
   "cell_type": "code",
   "execution_count": 19,
   "metadata": {},
   "outputs": [
    {
     "name": "stdout",
     "output_type": "stream",
     "text": [
      " * sqlite:///KIMTAY.db\n",
      "Done.\n"
     ]
    },
    {
     "data": {
      "text/html": [
       "<table>\n",
       "    <thead>\n",
       "        <tr>\n",
       "            <th>REP_ID</th>\n",
       "            <th>MEAN_BALANCE</th>\n",
       "        </tr>\n",
       "    </thead>\n",
       "    <tbody>\n",
       "        <tr>\n",
       "            <td>05</td>\n",
       "            <td>177.35750000000002</td>\n",
       "        </tr>\n",
       "        <tr>\n",
       "            <td>10</td>\n",
       "            <td>78.39500000000001</td>\n",
       "        </tr>\n",
       "        <tr>\n",
       "            <td>15</td>\n",
       "            <td>103.08999999999999</td>\n",
       "        </tr>\n",
       "    </tbody>\n",
       "</table>"
      ],
      "text/plain": [
       "[('05', 177.35750000000002),\n",
       " ('10', 78.39500000000001),\n",
       " ('15', 103.08999999999999)]"
      ]
     },
     "execution_count": 19,
     "metadata": {},
     "output_type": "execute_result"
    }
   ],
   "source": [
    "%%sql\n",
    "SELECT REP_ID, AVG(BALANCE) AS MEAN_BALANCE\n",
    "FROM CUSTOMER\n",
    "GROUP BY REP_ID\n",
    "ORDER BY REP_ID;"
   ]
  },
  {
   "cell_type": "code",
   "execution_count": 20,
   "metadata": {},
   "outputs": [
    {
     "name": "stdout",
     "output_type": "stream",
     "text": [
      " * sqlite:///KIMTAY.db\n",
      "Done.\n"
     ]
    },
    {
     "data": {
      "text/html": [
       "<table>\n",
       "    <thead>\n",
       "        <tr>\n",
       "            <th>REP_ID</th>\n",
       "            <th>AVG(BALANCE)</th>\n",
       "        </tr>\n",
       "    </thead>\n",
       "    <tbody>\n",
       "        <tr>\n",
       "            <td>05</td>\n",
       "            <td>177.35750000000002</td>\n",
       "        </tr>\n",
       "        <tr>\n",
       "            <td>15</td>\n",
       "            <td>103.08999999999999</td>\n",
       "        </tr>\n",
       "    </tbody>\n",
       "</table>"
      ],
      "text/plain": [
       "[('05', 177.35750000000002), ('15', 103.08999999999999)]"
      ]
     },
     "execution_count": 20,
     "metadata": {},
     "output_type": "execute_result"
    }
   ],
   "source": [
    "%%sql\n",
    "SELECT REP_ID, AVG(BALANCE)\n",
    "FROM CUSTOMER\n",
    "GROUP BY REP_ID\n",
    "HAVING AVG (BALANCE) > 100\n",
    "ORDER BY REP_ID;"
   ]
  },
  {
   "cell_type": "code",
   "execution_count": null,
   "metadata": {},
   "outputs": [],
   "source": []
  }
 ],
 "metadata": {
  "colab": {
   "provenance": []
  },
  "kernelspec": {
   "display_name": "Python 3 (ipykernel)",
   "language": "python",
   "name": "python3"
  },
  "language_info": {
   "codemirror_mode": {
    "name": "ipython",
    "version": 3
   },
   "file_extension": ".py",
   "mimetype": "text/x-python",
   "name": "python",
   "nbconvert_exporter": "python",
   "pygments_lexer": "ipython3",
   "version": "3.10.9"
  }
 },
 "nbformat": 4,
 "nbformat_minor": 1
}
